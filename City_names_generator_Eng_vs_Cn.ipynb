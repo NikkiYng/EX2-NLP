{
  "nbformat": 4,
  "nbformat_minor": 0,
  "metadata": {
    "colab": {
      "provenance": [],
      "gpuType": "T4",
      "include_colab_link": true
    },
    "kernelspec": {
      "name": "python3",
      "display_name": "Python 3"
    },
    "language_info": {
      "name": "python"
    },
    "accelerator": "GPU"
  },
  "cells": [
    {
      "cell_type": "markdown",
      "metadata": {
        "id": "view-in-github",
        "colab_type": "text"
      },
      "source": [
        "<a href=\"https://colab.research.google.com/github/NikkiYng/EX2-NLP/blob/main/City_names_generator_Eng_vs_Cn.ipynb\" target=\"_parent\"><img src=\"https://colab.research.google.com/assets/colab-badge.svg\" alt=\"Open In Colab\"/></a>"
      ]
    },
    {
      "cell_type": "code",
      "execution_count": 1,
      "metadata": {
        "id": "vowXRstocd8F"
      },
      "outputs": [],
      "source": [
        "import torch\n",
        "import torch.nn.functional as F\n",
        "import matplotlib.pyplot as plt\n",
        "%matplotlib inline\n",
        "import json\n",
        "import random"
      ]
    },
    {
      "cell_type": "markdown",
      "source": [
        "# **Data preparation**"
      ],
      "metadata": {
        "id": "A62vtn9GOvXI"
      }
    },
    {
      "cell_type": "markdown",
      "source": [
        "**1. Get data from github**"
      ],
      "metadata": {
        "id": "YgjoDTDibP9-"
      }
    },
    {
      "cell_type": "code",
      "source": [
        "# American City Names\n",
        "\n",
        "# download the txt file from github\n",
        "!wget https://raw.githubusercontent.com/NikkiYng/EX2-NLP/main/American_city_names_385.txt\n",
        "AmCity = open('American_city_names_385.txt', 'r').read().splitlines()\n",
        "len(AmCity) # number of the city names"
      ],
      "metadata": {
        "colab": {
          "base_uri": "https://localhost:8080/"
        },
        "id": "9Rlc3YeWcm_d",
        "outputId": "d9b71371-f1ee-411c-d137-17a8455f6fc0"
      },
      "execution_count": 2,
      "outputs": [
        {
          "output_type": "stream",
          "name": "stdout",
          "text": [
            "--2024-03-04 17:44:30--  https://raw.githubusercontent.com/NikkiYng/EX2-NLP/main/American_city_names_385.txt\n",
            "Resolving raw.githubusercontent.com (raw.githubusercontent.com)... 185.199.108.133, 185.199.109.133, 185.199.110.133, ...\n",
            "Connecting to raw.githubusercontent.com (raw.githubusercontent.com)|185.199.108.133|:443... connected.\n",
            "HTTP request sent, awaiting response... 200 OK\n",
            "Length: 3810 (3.7K) [text/plain]\n",
            "Saving to: ‘American_city_names_385.txt.1’\n",
            "\n",
            "\r          American_   0%[                    ]       0  --.-KB/s               \rAmerican_city_names 100%[===================>]   3.72K  --.-KB/s    in 0s      \n",
            "\n",
            "2024-03-04 17:44:30 (59.8 MB/s) - ‘American_city_names_385.txt.1’ saved [3810/3810]\n",
            "\n"
          ]
        },
        {
          "output_type": "execute_result",
          "data": {
            "text/plain": [
              "385"
            ]
          },
          "metadata": {},
          "execution_count": 2
        }
      ]
    },
    {
      "cell_type": "code",
      "source": [
        "print(\"American City Names\")\n",
        "print(AmCity)"
      ],
      "metadata": {
        "colab": {
          "base_uri": "https://localhost:8080/"
        },
        "id": "HSwv_QiGPCMF",
        "outputId": "f69507ce-2e01-4f0e-826c-669b628e2c57"
      },
      "execution_count": 3,
      "outputs": [
        {
          "output_type": "stream",
          "name": "stdout",
          "text": [
            "American City Names\n",
            "['Aberdeen', 'Abilene', 'Akron', 'Albany', 'Albuquerque', 'Alexandria', 'Allentown', 'Amarillo', 'Anaheim', 'Anchorage', 'Ann Arbor', 'Antioch', 'Apple Valley', 'Appleton', 'Arlington', 'Arvada', 'Asheville', 'Athens', 'Atlanta', 'Atlantic City', 'Augusta', 'Aurora', 'Austin', 'Bakersfield', 'Baltimore', 'Barnstable', 'Baton Rouge', 'Beaumont', 'Bel Air', 'Bellevue', 'Berkeley', 'Bethlehem', 'Billings', 'Birmingham', 'Bloomington', 'Boise', 'Boise City', 'Bonita Springs', 'Boston', 'Boulder', 'Bradenton', 'Bremerton', 'Bridgeport', 'Brighton', 'Brownsville', 'Bryan', 'Buffalo', 'Burbank', 'Burlington', 'Cambridge', 'Canton', 'Cape Coral', 'Carrollton', 'Cary', 'Cathedral City', 'Cedar Rapids', 'Champaign', 'Chandler', 'Charleston', 'Charlotte', 'Chattanooga', 'Chesapeake', 'Chicago', 'Chula Vista', 'Cincinnati', 'Clarke County', 'Clarksville', 'Clearwater', 'Cleveland', 'College Station', 'Colorado Springs', 'Columbia', 'Columbus', 'Concord', 'Coral Springs', 'Corona', 'Corpus Christi', 'Costa Mesa', 'Dallas', 'Daly City', 'Danbury', 'Davenport', 'Davidson County', 'Dayton', 'Daytona Beach', 'Deltona', 'Denton', 'Denver', 'Des Moines', 'Detroit', 'Downey', 'Duluth', 'Durham', 'El Monte', 'El Paso', 'Elizabeth', 'Elk Grove', 'Elkhart', 'Erie', 'Escondido', 'Eugene', 'Evansville', 'Fairfield', 'Fargo', 'Fayetteville', 'Fitchburg', 'Flint', 'Fontana', 'Fort Collins', 'Fort Lauderdale', 'Fort Smith', 'Fort Walton Beach', 'Fort Wayne', 'Fort Worth', 'Frederick', 'Fremont', 'Fresno', 'Fullerton', 'Gainesville', 'Garden Grove', 'Garland', 'Gastonia', 'Gilbert', 'Glendale', 'Grand Prairie', 'Grand Rapids', 'Grayslake', 'Green Bay', 'GreenBay', 'Greensboro', 'Greenville', 'Gulfport-Biloxi', 'Hagerstown', 'Hampton', 'Harlingen', 'Harrisburg', 'Hartford', 'Havre de Grace', 'Hayward', 'Hemet', 'Henderson', 'Hesperia', 'Hialeah', 'Hickory', 'High Point', 'Hollywood', 'Honolulu', 'Houma', 'Houston', 'Howell', 'Huntington', 'Huntington Beach', 'Huntsville', 'Independence', 'Indianapolis', 'Inglewood', 'Irvine', 'Irving', 'Jackson', 'Jacksonville', 'Jefferson', 'Jersey City', 'Johnson City', 'Joliet', 'Kailua', 'Kalamazoo', 'Kaneohe', 'Kansas City', 'Kennewick', 'Kenosha', 'Killeen', 'Kissimmee', 'Knoxville', 'Lacey', 'Lafayette', 'Lake Charles', 'Lakeland', 'Lakewood', 'Lancaster', 'Lansing', 'Laredo', 'Las Cruces', 'Las Vegas', 'Layton', 'Leominster', 'Lewisville', 'Lexington', 'Lincoln', 'Little Rock', 'Long Beach', 'Lorain', 'Los Angeles', 'Louisville', 'Lowell', 'Lubbock', 'Macon', 'Madison', 'Manchester', 'Marina', 'Marysville', 'McAllen', 'McHenry', 'Medford', 'Melbourne', 'Memphis', 'Merced', 'Mesa', 'Mesquite', 'Miami', 'Milwaukee', 'Minneapolis', 'Miramar', 'Mission Viejo', 'Mobile', 'Modesto', 'Monroe', 'Monterey', 'Montgomery', 'Moreno Valley', 'Murfreesboro', 'Murrieta', 'Muskegon', 'Myrtle Beach', 'Naperville', 'Naples', 'Nashua', 'Nashville', 'New Bedford', 'New Haven', 'New London', 'New Orleans', 'New York', 'New York City', 'Newark', 'Newburgh', 'Newport News', 'Norfolk', 'Normal', 'Norman', 'North Charleston', 'North Las Vegas', 'North Port', 'Norwalk', 'Norwich', 'Oakland', 'Ocala', 'Oceanside', 'Odessa', 'Ogden', 'Oklahoma City', 'Olathe', 'Olympia', 'Omaha', 'Ontario', 'Orange', 'Orem', 'Orlando', 'Overland Park', 'Oxnard', 'Palm Bay', 'Palm Springs', 'Palmdale', 'Panama City', 'Pasadena', 'Paterson', 'Pembroke Pines', 'Pensacola', 'Peoria', 'Philadelphia', 'Phoenix', 'Pittsburgh', 'Plano', 'Pomona', 'Pompano Beach', 'Port Arthur', 'Port Orange', 'Port Saint Lucie', 'Port St. Lucie', 'Portland', 'Portsmouth', 'Poughkeepsie', 'Providence', 'Provo', 'Pueblo', 'Punta Gorda', 'Racine', 'Raleigh', 'Rancho Cucamonga', 'Reading', 'Redding', 'Reno', 'Richland', 'Richmond', 'Richmond County', 'Riverside', 'Roanoke', 'Rochester', 'Rockford', 'Roseville', 'Round Lake Beach', 'Sacramento', 'Saginaw', 'Saint Louis', 'Saint Paul', 'Saint Petersburg', 'Salem', 'Salinas', 'Salt Lake City', 'San Antonio', 'San Bernardino', 'San Buenaventura', 'San Diego', 'San Francisco', 'San Jose', 'Santa Ana', 'Santa Barbara', 'Santa Clara', 'Santa Clarita', 'Santa Cruz', 'Santa Maria', 'Santa Rosa', 'Sarasota', 'Savannah', 'Scottsdale', 'Scranton', 'Seaside', 'Seattle', 'Sebastian', 'Shreveport', 'Simi Valley', 'Sioux City', 'Sioux Falls', 'South Bend', 'South Lyon', 'Spartanburg', 'Spokane', 'Springdale', 'Springfield', 'St. Louis', 'St. Paul', 'St. Petersburg', 'Stamford', 'Sterling Heights', 'Stockton', 'Sunnyvale', 'Syracuse', 'Tacoma', 'Tallahassee', 'Tampa', 'Temecula', 'Tempe', 'Thornton', 'Thousand Oaks', 'Toledo', 'Topeka', 'Torrance', 'Trenton', 'Tucson', 'Tulsa', 'Tuscaloosa', 'Tyler', 'Utica', 'Vallejo', 'Vancouver', 'Vero Beach', 'Victorville', 'Virginia Beach', 'Visalia', 'Waco', 'Warren', 'Washington', 'Waterbury', 'Waterloo', 'West Covina', 'West Valley City', 'Westminster', 'Wichita', 'Wilmington', 'Winston', 'Winter Haven', 'Worcester', 'Yakima', 'Yonkers', 'York', 'Youngstown']\n"
          ]
        }
      ]
    },
    {
      "cell_type": "code",
      "source": [
        "#Chinese City Names\n",
        "\n",
        "# download the json file from github\n",
        "!wget https://raw.githubusercontent.com/NikkiYng/EX2-NLP/main/Chinese_citys.json\n",
        "with open('Chinese_citys.json', 'r',encoding= 'utf-8') as f:\n",
        "  data = json.load(f)\n",
        "\n",
        "city_list = data['provinces']# cities are arranged by the order of their provinces\n",
        "Chcity = []\n",
        "# create a list with just the city names\n",
        "for i in city_list:\n",
        "    city = i['citys']\n",
        "    city_names = [d['cityName'] for d in city]\n",
        "    for a in city_names:\n",
        "        Chcity.append(a.replace('市','')) #each city is called \"xx City\" in the original dataset, here we remove the word \"city\"\n",
        "\n",
        "Chcity = Chcity[:385]# make the number even for the two languages\n",
        "len(Chcity)# number of the city names"
      ],
      "metadata": {
        "colab": {
          "base_uri": "https://localhost:8080/"
        },
        "id": "E9LyxVILPSo7",
        "outputId": "a4b14682-8dd6-4622-bd1e-fcdd1fa2a839"
      },
      "execution_count": 4,
      "outputs": [
        {
          "output_type": "stream",
          "name": "stdout",
          "text": [
            "--2024-03-04 17:44:30--  https://raw.githubusercontent.com/NikkiYng/EX2-NLP/main/Chinese_citys.json\n",
            "Resolving raw.githubusercontent.com (raw.githubusercontent.com)... 185.199.111.133, 185.199.108.133, 185.199.109.133, ...\n",
            "Connecting to raw.githubusercontent.com (raw.githubusercontent.com)|185.199.111.133|:443... connected.\n",
            "HTTP request sent, awaiting response... 200 OK\n",
            "Length: 40998 (40K) [text/plain]\n",
            "Saving to: ‘Chinese_citys.json.1’\n",
            "\n",
            "Chinese_citys.json. 100%[===================>]  40.04K  --.-KB/s    in 0.004s  \n",
            "\n",
            "2024-03-04 17:44:30 (10.3 MB/s) - ‘Chinese_citys.json.1’ saved [40998/40998]\n",
            "\n"
          ]
        },
        {
          "output_type": "execute_result",
          "data": {
            "text/plain": [
              "385"
            ]
          },
          "metadata": {},
          "execution_count": 4
        }
      ]
    },
    {
      "cell_type": "code",
      "source": [
        "print(\"Chinese City Names\")\n",
        "print(Chcity)"
      ],
      "metadata": {
        "colab": {
          "base_uri": "https://localhost:8080/"
        },
        "id": "Bs2e1XuQRYNA",
        "outputId": "45ac0027-6e8c-4ce9-f35b-d33f5d97cec6"
      },
      "execution_count": 5,
      "outputs": [
        {
          "output_type": "stream",
          "name": "stdout",
          "text": [
            "Chinese City Names\n",
            "['北京', '天津', '上海', '重庆', '香港特别行政区', '澳门特别行政区', '石家庄', '唐山', '秦皇岛', '邯郸', '邢台', '保定', '张家口', '承德', '沧州', '廊坊', '衡水', '辛集', '晋州', '新乐', '遵化', '迁安', '武安', '南宫', '沙河', '涿州', '定州', '安国', '高碑店', '平泉', '泊头', '任丘', '黄骅', '河间', '霸州', '三河', '深州', '太原', '大同', '阳泉', '长治', '晋城', '朔州', '晋中', '运城', '忻州', '临汾', '吕梁', '古交', '高平', '介休', '永济', '河津', '原平', '侯马', '霍州', '孝义', '汾阳', '怀仁', '呼和浩特', '包头', '乌海', '赤峰', '通辽', '鄂尔多斯', '呼伦贝尔', '巴彦淖尔', '乌兰察布', '霍林郭勒', '满洲里', '牙克石', '扎兰屯', '额尔古纳', '根河', '丰镇', '乌兰浩特', '阿尔山', '二连浩特', '锡林浩特', '沈阳', '大连', '鞍山', '抚顺', '本溪', '丹东', '锦州', '营口', '阜新', '辽阳', '盘锦', '铁岭', '朝阳', '葫芦岛', '新民', '瓦房店', '庄河', '海城', '东港', '凤城', '凌海', '北镇', '盖州', '大石桥', '灯塔', '调兵山', '开原', '北票', '凌源', '兴城', '长春', '吉林', '四平', '辽源', '通化', '白山', '松原', '白城', '榆树', '德惠', '蛟河', '桦甸', '舒兰', '磐石', '公主岭', '双辽', '梅河口', '集安', '洮南', '大安', '临江', '延吉', '图们', '敦化', '珲春', '龙井', '和龙', '扶余', '哈尔滨', '齐齐哈尔', '黑河', '大庆', '伊春', '鹤岗', '佳木斯', '双鸭山', '七台河', '鸡西', '牡丹江', '绥化', '尚志', '五常', '讷河', '北安', '五大连池', '嫩江', '铁力', '同江', '富锦', '虎林', '密山', '绥芬河', '海林', '宁安', '安达', '肇东', '海伦', '穆棱', '东宁', '抚远', '漠河', '南京', '徐州', '连云港', '宿迁', '淮安', '盐城', '扬州', '泰州', '南通', '镇江', '常州', '无锡', '苏州', '常熟', '张家港', '太仓', '昆山', '江阴', '宜兴', '溧阳', '扬中', '句容', '丹阳', '如皋', '启东', '海安', '高邮', '仪征', '兴化', '泰兴', '靖江', '东台', '邳州', '新沂', '杭州', '宁波', '湖州', '嘉兴', '舟山', '绍兴', '衢州', '金华', '台州', '温州', '丽水', '建德', '慈溪', '余姚', '平湖', '海宁', '桐乡', '诸暨', '嵊州', '江山', '兰溪', '永康', '义乌', '东阳', '临海', '温岭', '瑞安', '乐清', '龙港', '龙泉', '玉环', '合肥', '芜湖', '蚌埠', '淮南', '马鞍山', '淮北', '铜陵', '安庆', '黄山', '滁州', '阜阳', '宿州', '六安', '亳州', '池州', '宣城', '巢湖', '桐城', '天长', '明光', '界首', '宁国', '广德', '潜山', '无为', '厦门', '福州', '南平', '三明', '莆田', '泉州', '漳州', '龙岩', '宁德', '福清', '邵武', '武夷山', '建瓯', '永安', '石狮', '晋江', '南安', '龙海', '漳平', '福安', '福鼎', '南昌', '九江', '景德镇', '鹰潭', '新余', '萍乡', '赣州', '上饶', '抚州', '宜春', '吉安', '瑞昌', '共青城', '庐山', '乐平', '瑞金', '德兴', '丰城', '樟树', '高安', '井冈山', '贵溪', '济南', '青岛', '聊城', '德州', '东营', '淄博', '潍坊', '烟台', '威海', '日照', '临沂', '枣庄', '济宁', '泰安', '滨州', '菏泽', '胶州', '平度', '莱西', '临清', '乐陵', '禹城', '安丘', '昌邑', '高密', '青州', '诸城', '寿光', '栖霞', '海阳', '龙口', '莱阳', '莱州', '蓬莱', '招远', '荣成', '乳山', '滕州', '曲阜', '邹城', '新泰', '肥城', '邹平', '郑州', '开封', '洛阳', '平顶山', '安阳', '鹤壁', '新乡', '焦作', '濮阳', '许昌', '漯河', '三门峡', '南阳', '商丘', '周口', '驻马店', '信阳', '荥阳', '新郑', '登封', '新密', '偃师', '孟州', '沁阳', '卫辉', '辉县', '长垣', '林州', '禹州', '长葛', '舞钢', '义马', '灵宝', '项城', '巩义', '邓州', '永城', '汝州', '济源']\n"
          ]
        }
      ]
    },
    {
      "cell_type": "markdown",
      "source": [
        "**2. Build the vocabulary of characters and mappings to integers**"
      ],
      "metadata": {
        "id": "AmsdQtLhbVPm"
      }
    },
    {
      "cell_type": "code",
      "source": [
        "#American cities\n",
        "chars1 = sorted(list(set(''.join(AmCity))))\n",
        "stoi1 = {s:i+1 for i,s in enumerate(chars1)}\n",
        "stoi1['.'] = 0\n",
        "itos1 = {i:s for s,i in stoi1.items()}\n",
        "print(itos1)\n",
        "#Chinese cities\n",
        "chars2 = sorted(list(set(''.join(Chcity))))\n",
        "stoi2 = {s:i+1 for i,s in enumerate(chars2)}\n",
        "stoi2['.'] = 0\n",
        "itos2 = {i:s for s,i in stoi2.items()}\n",
        "print(itos2)"
      ],
      "metadata": {
        "colab": {
          "base_uri": "https://localhost:8080/"
        },
        "id": "EYnXhmWVcx-l",
        "outputId": "3c211d5d-9f99-416b-aef3-fca03e78f16d"
      },
      "execution_count": 6,
      "outputs": [
        {
          "output_type": "stream",
          "name": "stdout",
          "text": [
            "{1: ' ', 2: '-', 0: '.', 4: 'A', 5: 'B', 6: 'C', 7: 'D', 8: 'E', 9: 'F', 10: 'G', 11: 'H', 12: 'I', 13: 'J', 14: 'K', 15: 'L', 16: 'M', 17: 'N', 18: 'O', 19: 'P', 20: 'R', 21: 'S', 22: 'T', 23: 'U', 24: 'V', 25: 'W', 26: 'Y', 27: 'a', 28: 'b', 29: 'c', 30: 'd', 31: 'e', 32: 'f', 33: 'g', 34: 'h', 35: 'i', 36: 'j', 37: 'k', 38: 'l', 39: 'm', 40: 'n', 41: 'o', 42: 'p', 43: 'q', 44: 'r', 45: 's', 46: 't', 47: 'u', 48: 'v', 49: 'w', 50: 'x', 51: 'y', 52: 'z'}\n",
            "{1: '七', 2: '三', 3: '上', 4: '丘', 5: '东', 6: '中', 7: '丰', 8: '临', 9: '丹', 10: '为', 11: '主', 12: '丽', 13: '义', 14: '乌', 15: '乐', 16: '九', 17: '乡', 18: '乳', 19: '二', 20: '云', 21: '五', 22: '井', 23: '交', 24: '京', 25: '亳', 26: '仁', 27: '介', 28: '仓', 29: '仪', 30: '们', 31: '任', 32: '伊', 33: '休', 34: '伦', 35: '余', 36: '作', 37: '佳', 38: '侯', 39: '保', 40: '信', 41: '偃', 42: '光', 43: '克', 44: '公', 45: '六', 46: '兰', 47: '共', 48: '兴', 49: '兵', 50: '冈', 51: '凌', 52: '凤', 53: '别', 54: '力', 55: '勒', 56: '包', 57: '化', 58: '北', 59: '区', 60: '华', 61: '南', 62: '博', 63: '卫', 64: '原', 65: '厦', 66: '县', 67: '双', 68: '口', 69: '古', 70: '句', 71: '台', 72: '合', 73: '吉', 74: '同', 75: '吕', 76: '启', 77: '周', 78: '呼', 79: '和', 80: '哈', 81: '唐', 82: '商', 83: '嘉', 84: '四', 85: '国', 86: '图', 87: '坊', 88: '垣', 89: '城', 90: '埠', 91: '塔', 92: '壁', 93: '多', 94: '大', 95: '天', 96: '太', 97: '头', 98: '夷', 99: '如', 100: '姚', 101: '威', 102: '嫩', 103: '孝', 104: '孟', 105: '宁', 106: '安', 107: '定', 108: '宜', 109: '宝', 110: '宣', 111: '宫', 112: '家', 113: '容', 114: '宿', 115: '密', 116: '富', 117: '察', 118: '寿', 119: '封', 120: '尔', 121: '尚', 122: '屯', 123: '山', 124: '岗', 125: '岛', 126: '岩', 127: '岭', 128: '峡', 129: '峰', 130: '嵊', 131: '州', 132: '巢', 133: '巩', 134: '巴', 135: '布', 136: '师', 137: '常', 138: '平', 139: '广', 140: '庄', 141: '庆', 142: '庐', 143: '店', 144: '度', 145: '康', 146: '廊', 147: '延', 148: '建', 149: '开', 150: '张', 151: '彦', 152: '征', 153: '徐', 154: '德', 155: '志', 156: '忻', 157: '怀', 158: '惠', 159: '慈', 160: '成', 161: '房', 162: '扎', 163: '扬', 164: '扶', 165: '承', 166: '抚', 167: '招', 168: '政', 169: '敦', 170: '斯', 171: '新', 172: '无', 173: '日', 174: '昆', 175: '昌', 176: '明', 177: '春', 178: '晋', 179: '景', 180: '暨', 181: '曲', 182: '朔', 183: '朝', 184: '木', 185: '本', 186: '杭', 187: '松', 188: '林', 189: '枣', 190: '树', 191: '栖', 192: '根', 193: '桐', 194: '桥', 195: '桦', 196: '梁', 197: '梅', 198: '棱', 199: '榆', 200: '樟', 201: '武', 202: '民', 203: '水', 204: '永', 205: '汝', 206: '江', 207: '池', 208: '汾', 209: '沁', 210: '沂', 211: '沈', 212: '沙', 213: '沧', 214: '河', 215: '治', 216: '泉', 217: '泊', 218: '波', 219: '泰', 220: '泽', 221: '洛', 222: '津', 223: '洮', 224: '洲', 225: '济', 226: '浩', 227: '海', 228: '涿', 229: '淄', 230: '淖', 231: '淮', 232: '深', 233: '清', 234: '温', 235: '港', 236: '湖', 237: '源', 238: '溧', 239: '溪', 240: '滁', 241: '滕', 242: '满', 243: '滨', 244: '漠', 245: '漯', 246: '漳', 247: '潍', 248: '潜', 249: '潭', 250: '澳', 251: '濮', 252: '灯', 253: '灵', 254: '烟', 255: '焦', 256: '照', 257: '熟', 258: '牙', 259: '牡', 260: '特', 261: '狮', 262: '玉', 263: '环', 264: '珲', 265: '瑞', 266: '瓦', 267: '瓯', 268: '田', 269: '甸', 270: '界', 271: '登', 272: '白', 273: '皇', 274: '皋', 275: '盐', 276: '盖', 277: '盘', 278: '石', 279: '碑', 280: '磐', 281: '票', 282: '福', 283: '禹', 284: '秦', 285: '穆', 286: '纳', 287: '绍', 288: '绥', 289: '聊', 290: '肇', 291: '肥', 292: '胶', 293: '舒', 294: '舞', 295: '舟', 296: '芜', 297: '芦', 298: '芬', 299: '苏', 300: '荣', 301: '荥', 302: '莆', 303: '莱', 304: '菏', 305: '萍', 306: '营', 307: '葛', 308: '葫', 309: '蓬', 310: '虎', 311: '蚌', 312: '蛟', 313: '行', 314: '衡', 315: '衢', 316: '西', 317: '讷', 318: '许', 319: '诸', 320: '调', 321: '贝', 322: '贵', 323: '赣', 324: '赤', 325: '辉', 326: '辛', 327: '辽', 328: '达', 329: '迁', 330: '运', 331: '远', 332: '连', 333: '通', 334: '遵', 335: '邑', 336: '邓', 337: '邢', 338: '邮', 339: '邯', 340: '邳', 341: '邵', 342: '邹', 343: '郑', 344: '郭', 345: '郸', 346: '鄂', 347: '里', 348: '重', 349: '金', 350: '钢', 351: '铁', 352: '铜', 353: '锡', 354: '锦', 355: '镇', 356: '长', 357: '门', 358: '间', 359: '阜', 360: '阳', 361: '阴', 362: '阿', 363: '陵', 364: '集', 365: '霍', 366: '霞', 367: '霸', 368: '青', 369: '靖', 370: '鞍', 371: '顶', 372: '项', 373: '顺', 374: '额', 375: '饶', 376: '首', 377: '香', 378: '马', 379: '驻', 380: '骅', 381: '高', 382: '鸡', 383: '鸭', 384: '鹤', 385: '鹰', 386: '黄', 387: '黑', 388: '鼎', 389: '齐', 390: '龙', 0: '.'}\n"
          ]
        }
      ]
    },
    {
      "cell_type": "markdown",
      "source": [
        "**3. Create a three-fold dataset**"
      ],
      "metadata": {
        "id": "XKU3GHzabn4T"
      }
    },
    {
      "cell_type": "code",
      "source": [
        "# American cities\n",
        "\n",
        "# build the dataset\n",
        "block_size = 3 # take 3 characters to predict the next one\n",
        "\n",
        "def build_dataset(words):\n",
        "  X, Y = [], []\n",
        "  for w in words:\n",
        "\n",
        "    #print(w)\n",
        "    context = [0] * block_size\n",
        "    for ch in w + '.':\n",
        "      ix = stoi1[ch]\n",
        "      X.append(context)\n",
        "      Y.append(ix)\n",
        "      #print(''.join(itos[i] for i in context), '--->', itos[ix])\n",
        "      context = context[1:] + [ix] # crop and append\n",
        "\n",
        "  X = torch.tensor(X)\n",
        "  Y = torch.tensor(Y)\n",
        "  print(X.shape, Y.shape)\n",
        "  return X, Y\n",
        "\n",
        "# prepare the data splits\n",
        "random.seed(42)\n",
        "random.shuffle(AmCity)\n",
        "n1 = int(0.8*len(AmCity))\n",
        "n2 = int(0.9*len(AmCity))\n",
        "\n",
        "Xtr, Ytr = build_dataset(AmCity[:n1])\n",
        "Xdev, Ydev = build_dataset(AmCity[n1:n2])\n",
        "Xte, Yte = build_dataset(AmCity[n2:])"
      ],
      "metadata": {
        "colab": {
          "base_uri": "https://localhost:8080/"
        },
        "id": "MB5XgJxdczFi",
        "outputId": "865eb80d-fc20-4e60-d62a-8aedc606fb7e"
      },
      "execution_count": 7,
      "outputs": [
        {
          "output_type": "stream",
          "name": "stdout",
          "text": [
            "torch.Size([3029, 3]) torch.Size([3029])\n",
            "torch.Size([370, 3]) torch.Size([370])\n",
            "torch.Size([411, 3]) torch.Size([411])\n"
          ]
        }
      ]
    },
    {
      "cell_type": "code",
      "source": [
        "# the Chinese one\n",
        "block_size2 = 1 # take 1 character to predict the next one\n",
        "\n",
        "def build_dataset_cn(words):\n",
        "  X, Y = [], []\n",
        "  for w in words:\n",
        "\n",
        "    #print(w)\n",
        "    context = [0] * block_size2\n",
        "    for ch in w + '.':\n",
        "      ix2 = stoi2[ch]\n",
        "      X.append(context)\n",
        "      Y.append(ix2)\n",
        "      #print(''.join(itos[i] for i in context), '--->', itos[ix])\n",
        "      context = context[1:] + [ix2] # crop and append\n",
        "\n",
        "  X = torch.tensor(X)\n",
        "  Y = torch.tensor(Y)\n",
        "  print(X.shape, Y.shape)\n",
        "  return X, Y\n",
        "\n",
        "# prepare the data splits\n",
        "random.seed(40)\n",
        "random.shuffle(Chcity)\n",
        "n1 = int(0.8*len(Chcity))\n",
        "n2 = int(0.9*len(Chcity))\n",
        "\n",
        "Xtr1, Ytr1 = build_dataset_cn(Chcity[:n1])\n",
        "Xdev1, Ydev1 = build_dataset_cn(Chcity[n1:n2])\n",
        "Xte1, Yte1 = build_dataset_cn(Chcity[n2:])"
      ],
      "metadata": {
        "colab": {
          "base_uri": "https://localhost:8080/"
        },
        "id": "ZvFkcyP7db6R",
        "outputId": "4aa46de7-304c-4d04-f7f1-7890ae9d0b37"
      },
      "execution_count": 8,
      "outputs": [
        {
          "output_type": "stream",
          "name": "stdout",
          "text": [
            "torch.Size([969, 1]) torch.Size([969])\n",
            "torch.Size([126, 1]) torch.Size([126])\n",
            "torch.Size([124, 1]) torch.Size([124])\n"
          ]
        }
      ]
    },
    {
      "cell_type": "markdown",
      "source": [
        "#**Train the model**"
      ],
      "metadata": {
        "id": "3mB4mE_yb5fH"
      }
    },
    {
      "cell_type": "markdown",
      "source": [
        "**1. Set up parameters**"
      ],
      "metadata": {
        "id": "pfY5koG-ha-e"
      }
    },
    {
      "cell_type": "code",
      "source": [
        "# set up the parameters\n",
        "g = torch.Generator().manual_seed(2147483647) # for reproducibility\n",
        "C = torch.randn((53, 10), generator=g) # 52 is the max index\n",
        "W1 = torch.randn((30, 200), generator=g)\n",
        "b1 = torch.randn(200, generator=g)\n",
        "W2 = torch.randn((200, 53), generator=g)\n",
        "b2 = torch.randn(53, generator=g) # match W2's second dimension\n",
        "parameters = [C, W1, b1, W2, b2]\n",
        "sum(p.nelement() for p in parameters) # number of parameters in total"
      ],
      "metadata": {
        "id": "0Y8stySNhUU8",
        "colab": {
          "base_uri": "https://localhost:8080/"
        },
        "outputId": "11239792-3af0-4e50-e335-c7ef1bad9d5d"
      },
      "execution_count": 9,
      "outputs": [
        {
          "output_type": "execute_result",
          "data": {
            "text/plain": [
              "17383"
            ]
          },
          "metadata": {},
          "execution_count": 9
        }
      ]
    },
    {
      "cell_type": "code",
      "source": [
        "# enable gradient computation\n",
        "for p in parameters:\n",
        "  p.requires_grad = True\n",
        "\n",
        "# set up learning rate\n",
        "lre = torch.linspace(-3, 0, 1000) # a tensor of 1000 points evenly spaced between -3 and 0\n",
        "lrs = 10**lre\n",
        "\n",
        "# initializw lists for tracking\n",
        "lri = []\n",
        "lossi = []\n",
        "stepi = []"
      ],
      "metadata": {
        "id": "coNBea1sc6tm"
      },
      "execution_count": 10,
      "outputs": []
    },
    {
      "cell_type": "markdown",
      "source": [
        "**2. Train the models**"
      ],
      "metadata": {
        "id": "TVdjAJU3hXVI"
      }
    },
    {
      "cell_type": "code",
      "source": [
        "for i in range(200000): # iterate 200,000 times\n",
        "\n",
        "  # minibatch construct\n",
        "  ix = torch.randint(0, Xtr.shape[0], (32,)) # create a batch size of 32\n",
        "\n",
        "  # forward pass\n",
        "  emb = C[Xtr[ix]] # (32, 3, 2)\n",
        "  h = torch.tanh(emb.view(-1, 30) @ W1 + b1) # (32, 100)\n",
        "  logits = h @ W2 + b2 # (32, 53) # match b2's shape\n",
        "  loss = F.cross_entropy(logits, Ytr[ix])\n",
        "  #print(loss.item())\n",
        "\n",
        "  # backward pass\n",
        "  for p in parameters:\n",
        "    p.grad = None\n",
        "  loss.backward()\n",
        "\n",
        "  # update\n",
        "  #lr = lrs[i]\n",
        "  lr = 0.1 if i < 100000 else 0.01\n",
        "  for p in parameters:\n",
        "    p.data += -lr * p.grad\n",
        "\n",
        "  # track stats\n",
        "  #lri.append(lre[i])\n",
        "  stepi.append(i)\n",
        "  lossi.append(loss.log10().item())\n",
        "\n",
        "#print(loss.item())"
      ],
      "metadata": {
        "id": "jiKD-PPOdClh"
      },
      "execution_count": 11,
      "outputs": []
    },
    {
      "cell_type": "markdown",
      "source": [
        "**Similar steps, but for chinese**"
      ],
      "metadata": {
        "id": "4oRhxJuLnfIT"
      }
    },
    {
      "cell_type": "code",
      "source": [
        "# the Chinese one\n",
        "\n",
        "# set up the parameters\n",
        "g_cn = torch.Generator().manual_seed(2147483647) # for reproducibility\n",
        "C_cn = torch.randn((391, 10), generator=g_cn) # 391 is the max index\n",
        "W1_cn = torch.randn((10, 200), generator=g_cn)\n",
        "b1_cn = torch.randn(200, generator=g_cn)\n",
        "W2_cn = torch.randn((200, 391), generator=g_cn)\n",
        "b2_cn = torch.randn(391, generator=g_cn) # match W2's second dimension\n",
        "parameters_cn = [C_cn, W1_cn, b1_cn, W2_cn, b2_cn]\n",
        "sum(p.nelement() for p in parameters_cn) # number of parameters in total\n",
        "\n",
        "# enable gradient computation\n",
        "for p in parameters_cn:\n",
        "  p.requires_grad = True\n",
        "\n",
        "# set up learning rate\n",
        "lre_cn = torch.linspace(-3, 0, 1000) # a tensor of 1000 points evenly spaced between -3 and 0\n",
        "lrs_cn = 10**lre_cn\n",
        "\n",
        "# initializw lists for tracking\n",
        "lri_cn = []\n",
        "lossi_cn = []\n",
        "stepi_cn = []\n",
        "\n",
        "for i in range(200000):  # iterate 200,000 times\n",
        "    # minibatch construct\n",
        "    ix_cn = torch.randint(0, Xtr1.shape[0], (32,))\n",
        "\n",
        "    # forward pass\n",
        "    emb_cn = C_cn[Xtr1[ix_cn]]  # assuming Xtr1 is a list of indices\n",
        "    h_cn = torch.tanh(emb_cn.view(-1, 10) @ W1_cn + b1_cn)\n",
        "    logits_cn = h_cn @ W2_cn + b2_cn\n",
        "    loss_cn = F.cross_entropy(logits_cn, Ytr1[ix_cn])\n",
        "\n",
        "    # backward pass\n",
        "    loss_cn.backward()\n",
        "\n",
        "    # update\n",
        "    lr_cn = 0.1 if i < 100000 else 0.01\n",
        "    for p in parameters_cn:\n",
        "        if p.grad is not None:\n",
        "            p.data -= lr_cn * p.grad\n",
        "\n",
        "    # zero out gradients for the next iteration\n",
        "    for p in parameters_cn:\n",
        "        p.grad = None\n",
        "\n",
        "    # track stats\n",
        "    stepi_cn.append(i)\n",
        "    lossi_cn.append(loss_cn.log10().item())\n",
        "\n"
      ],
      "metadata": {
        "id": "YyyKOUVZkdNR"
      },
      "execution_count": 24,
      "outputs": []
    },
    {
      "cell_type": "markdown",
      "source": [
        "# **Evaluation**"
      ],
      "metadata": {
        "id": "oMZIeM4uVIOp"
      }
    },
    {
      "cell_type": "markdown",
      "source": [
        "**American cities**"
      ],
      "metadata": {
        "id": "qRCjO1ZIIzGH"
      }
    },
    {
      "cell_type": "code",
      "source": [
        "plt.plot(stepi, lossi)"
      ],
      "metadata": {
        "colab": {
          "base_uri": "https://localhost:8080/",
          "height": 448
        },
        "id": "ZBAYXZ_rdGIG",
        "outputId": "0d299632-fc40-46f9-a6da-59967b5c9e74"
      },
      "execution_count": 13,
      "outputs": [
        {
          "output_type": "execute_result",
          "data": {
            "text/plain": [
              "[<matplotlib.lines.Line2D at 0x7a3da5603400>]"
            ]
          },
          "metadata": {},
          "execution_count": 13
        },
        {
          "output_type": "display_data",
          "data": {
            "text/plain": [
              "<Figure size 640x480 with 1 Axes>"
            ],
            "image/png": "[encoded data removed]"
          },
          "metadata": {}
        }
      ]
    },
    {
      "cell_type": "code",
      "source": [
        "# training loss\n",
        "emb = C[Xtr] # (32, 3, 2)\n",
        "h = torch.tanh(emb.view(-1, 30) @ W1 + b1) # (32, 100)\n",
        "logits = h @ W2 + b2 # (32, 27)\n",
        "loss = F.cross_entropy(logits, Ytr)\n",
        "loss"
      ],
      "metadata": {
        "colab": {
          "base_uri": "https://localhost:8080/"
        },
        "id": "ZlhYinNgdIVF",
        "outputId": "4dfc2a4e-292a-4ea7-a57e-8aa6a4c9d57b"
      },
      "execution_count": 14,
      "outputs": [
        {
          "output_type": "execute_result",
          "data": {
            "text/plain": [
              "tensor(0.8225, grad_fn=<NllLossBackward0>)"
            ]
          },
          "metadata": {},
          "execution_count": 14
        }
      ]
    },
    {
      "cell_type": "code",
      "source": [
        "# validation loss\n",
        "emb = C[Xdev] # (32, 3, 2)\n",
        "h = torch.tanh(emb.view(-1, 30) @ W1 + b1) # (32, 100)\n",
        "logits = h @ W2 + b2 # (32, 53)\n",
        "loss = F.cross_entropy(logits, Ydev)\n",
        "loss"
      ],
      "metadata": {
        "colab": {
          "base_uri": "https://localhost:8080/"
        },
        "id": "cJH3DDu4dLTM",
        "outputId": "5f65acb3-b05e-4f28-bab9-c5810b79ee8f"
      },
      "execution_count": 15,
      "outputs": [
        {
          "output_type": "execute_result",
          "data": {
            "text/plain": [
              "tensor(6.2314, grad_fn=<NllLossBackward0>)"
            ]
          },
          "metadata": {},
          "execution_count": 15
        }
      ]
    },
    {
      "cell_type": "code",
      "source": [
        "# test loss\n",
        "emb = C[Xte] # (32, 3, 2)\n",
        "h = torch.tanh(emb.view(-1, 30) @ W1 + b1) # (32, 100)\n",
        "logits = h @ W2 + b2 # (32, 53)\n",
        "loss = F.cross_entropy(logits, Yte)\n",
        "loss"
      ],
      "metadata": {
        "colab": {
          "base_uri": "https://localhost:8080/"
        },
        "id": "DwOgCg1vdNhe",
        "outputId": "9fb09ee1-be0b-4dcf-b49d-ebff1cb2b2dd"
      },
      "execution_count": 16,
      "outputs": [
        {
          "output_type": "execute_result",
          "data": {
            "text/plain": [
              "tensor(6.4887, grad_fn=<NllLossBackward0>)"
            ]
          },
          "metadata": {},
          "execution_count": 16
        }
      ]
    },
    {
      "cell_type": "code",
      "source": [
        "# Visualize dimensions 0 and 1 of the embedding matrix C for all characters\n",
        "plt.figure(figsize=(8,8))\n",
        "plt.scatter(C[:,0].data, C[:,1].data, s=200)  # Assuming C is a 2D tensor\n",
        "for i in range(C.shape[0]):\n",
        "    # Subtract 1 from the index if itos1 starts from 1\n",
        "    char_index = i + 1  # Adjust index to match itos1 keys\n",
        "    if char_index in itos1:  # Check if the index exists in itos1\n",
        "        plt.text(C[i, 0].item(), C[i, 1].item(), itos1[char_index], ha=\"center\", va=\"center\", color='white')\n",
        "plt.grid('minor')"
      ],
      "metadata": {
        "colab": {
          "base_uri": "https://localhost:8080/",
          "height": 677
        },
        "id": "CCWLYP9GdPP4",
        "outputId": "6780dbb4-664b-4bf9-b0f9-467ad6494e2d"
      },
      "execution_count": 17,
      "outputs": [
        {
          "output_type": "display_data",
          "data": {
            "text/plain": [
              "<Figure size 800x800 with 1 Axes>"
            ],
            "image/png": "[encoded data removed]"
          },
          "metadata": {}
        }
      ]
    },
    {
      "cell_type": "markdown",
      "source": [
        "**Chinese cities**"
      ],
      "metadata": {
        "id": "GeIZGM0zI36M"
      }
    },
    {
      "cell_type": "code",
      "source": [
        "plt.plot(stepi_cn, lossi_cn)\n",
        "plt.show()"
      ],
      "metadata": {
        "colab": {
          "base_uri": "https://localhost:8080/",
          "height": 430
        },
        "id": "-MQAossJI6TC",
        "outputId": "4b77b9da-3520-40dd-e1b8-2dfca4fae63c"
      },
      "execution_count": 25,
      "outputs": [
        {
          "output_type": "display_data",
          "data": {
            "text/plain": [
              "<Figure size 640x480 with 1 Axes>"
            ],
            "image/png": "[encoded data removed]"
          },
          "metadata": {}
        }
      ]
    },
    {
      "cell_type": "code",
      "source": [
        "# training loss\n",
        "emb_cn = C_cn[Xtr1] # (32, 3, 2)\n",
        "h_cn = torch.tanh(emb_cn.view(-1, 10) @ W1_cn + b1_cn) # (32, 100)\n",
        "logits_cn = h_cn @ W2_cn + b2_cn # (32, 27)\n",
        "loss_cn = F.cross_entropy(logits_cn, Ytr1)\n",
        "loss_cn"
      ],
      "metadata": {
        "colab": {
          "base_uri": "https://localhost:8080/"
        },
        "id": "-OznwbdXJEhd",
        "outputId": "5f996732-87b4-4022-fe4a-1deb29ea7aab"
      },
      "execution_count": 26,
      "outputs": [
        {
          "output_type": "execute_result",
          "data": {
            "text/plain": [
              "tensor(1.9986, grad_fn=<NllLossBackward0>)"
            ]
          },
          "metadata": {},
          "execution_count": 26
        }
      ]
    },
    {
      "cell_type": "code",
      "source": [
        "# validation loss\n",
        "emb_cn = C_cn[Xdev1] # (32, 3, 2)\n",
        "h_cn = torch.tanh(emb_cn.view(-1, 10) @ W1_cn + b1_cn) # (32, 100)\n",
        "logits_cn = h_cn @ W2_cn + b2_cn # (32, 27)\n",
        "loss_cn = F.cross_entropy(logits_cn, Ydev1)\n",
        "loss_cn"
      ],
      "metadata": {
        "colab": {
          "base_uri": "https://localhost:8080/"
        },
        "id": "EiKHA6poJJEn",
        "outputId": "32b7a54d-560e-4e6b-b3ab-abb13af5e6e5"
      },
      "execution_count": 27,
      "outputs": [
        {
          "output_type": "execute_result",
          "data": {
            "text/plain": [
              "tensor(14.0942, grad_fn=<NllLossBackward0>)"
            ]
          },
          "metadata": {},
          "execution_count": 27
        }
      ]
    },
    {
      "cell_type": "code",
      "source": [
        "# test loss\n",
        "emb_cn = C_cn[Xte1] # (32, 3, 2)\n",
        "h_cn = torch.tanh(emb_cn.view(-1, 10) @ W1_cn + b1_cn) # (32, 100)\n",
        "logits_cn = h_cn @ W2_cn + b2_cn # (32, 27)\n",
        "loss_cn = F.cross_entropy(logits_cn, Yte1)\n",
        "loss_cn"
      ],
      "metadata": {
        "colab": {
          "base_uri": "https://localhost:8080/"
        },
        "id": "_EckAXl9JKuj",
        "outputId": "2ac792d8-42a7-469e-b5e0-1e1630aba498"
      },
      "execution_count": 28,
      "outputs": [
        {
          "output_type": "execute_result",
          "data": {
            "text/plain": [
              "tensor(14.6903, grad_fn=<NllLossBackward0>)"
            ]
          },
          "metadata": {},
          "execution_count": 28
        }
      ]
    },
    {
      "cell_type": "markdown",
      "source": [
        "# **Sample analysis**"
      ],
      "metadata": {
        "id": "vk4JEO53f-8b"
      }
    },
    {
      "cell_type": "markdown",
      "source": [
        "**Generate American city names**"
      ],
      "metadata": {
        "id": "8Wb6ql_xgD4y"
      }
    },
    {
      "cell_type": "code",
      "source": [
        "# sample from the model\n",
        "g = torch.Generator().manual_seed(2147483647 + 10)\n",
        "\n",
        "for _ in range(100):\n",
        "\n",
        "    out = []\n",
        "    context = [0] * block_size # initialize with all ...\n",
        "    while True:\n",
        "      emb = C[torch.tensor([context])] # (1,block_size,d)\n",
        "      h = torch.tanh(emb.view(1, -1) @ W1 + b1)\n",
        "      logits = h @ W2 + b2\n",
        "      probs = F.softmax(logits, dim=1)\n",
        "      ix = torch.multinomial(probs, num_samples=1, generator=g).item()\n",
        "      context = context[1:] + [ix]\n",
        "      out.append(ix)\n",
        "      if ix == 0:\n",
        "        break\n",
        "\n",
        "    print(''.join(itos1[i] for i in out))"
      ],
      "metadata": {
        "colab": {
          "base_uri": "https://localhost:8080/"
        },
        "id": "TQUMmgRrdRIA",
        "outputId": "71dea8e5-3baa-497a-9985-5556d010a449"
      },
      "execution_count": 22,
      "outputs": [
        {
          "output_type": "stream",
          "name": "stdout",
          "text": [
            "Bryan.\n",
            "Johnson.\n",
            "Pland Paul.\n",
            "Boise Cound Covids.\n",
            "Abilendale.\n",
            "Mont.\n",
            "Holling.\n",
            "Normal.\n",
            "Saltimore.\n",
            "GreenBay.\n",
            "Elk Grayslake Beach.\n",
            "Richmonte.\n",
            "Denton Countsville.\n",
            "Gastown.\n",
            "Pomontgomerton.\n",
            "Mesquite.\n",
            "Marille.\n",
            "Hampton.\n",
            "Burlint.\n",
            "Norman.\n",
            "El Moint.\n",
            "Cathedral Sprina.\n",
            "Durham.\n",
            "Torrand Paul.\n",
            "Richmont.\n",
            "Downey.\n",
            "Porth.\n",
            "Visalings.\n",
            "Lance.\n",
            "Bridgeport-Biloxi.\n",
            "Normal.\n",
            "Detroit.\n",
            "Rich.\n",
            "Augusta.\n",
            "Irville.\n",
            "More.\n",
            "Fargsha.\n",
            "Coraint Park.\n",
            "Rocktona.\n",
            "Panapolis.\n",
            "Davide.\n",
            "Corpus City.\n",
            "Medford.\n",
            "San Beach.\n",
            "Stamford.\n",
            "Howell.\n",
            "Murfreen.\n",
            "Kane.\n",
            "Escond Collington.\n",
            "Roch.\n",
            "Lansing.\n",
            "Richland.\n",
            "Costa Sprina.\n",
            "Pater.\n",
            "Wilming.\n",
            "Mercestersburgh.\n",
            "Round Oaklaha.\n",
            "Grancaster.\n",
            "San Frange.\n",
            "Santario.\n",
            "Pompano.\n",
            "Newarkeley.\n",
            "Corado Spring.\n",
            "Nashingston.\n",
            "Dallaha.\n",
            "Tallahassee.\n",
            "Coro.\n",
            "Claria.\n",
            "Norwick.\n",
            "Bloomins.\n",
            "Visalinsterselgwown.\n",
            "Greesboron.\n",
            "Westerson County.\n",
            "Medford.\n",
            "Lancord.\n",
            "Gaint Peterlottle.\n",
            "Tucson.\n",
            "Orlando.\n",
            "Danburg.\n",
            "Omahassee.\n",
            "Albuquerque.\n",
            "Vero Beach.\n",
            "Yonkerland.\n",
            "Dento.\n",
            "Gilberdalem.\n",
            "Porth Lyon.\n",
            "El Moint Perkeles.\n",
            "Barbara.\n",
            "Kaneohe.\n",
            "McAllendependependependale.\n",
            "Nort.\n",
            "Thousand Prairfield.\n",
            "San Francola.\n",
            "Muskegon.\n",
            "Warrentowney.\n",
            "Nash.\n",
            "Fullentona Bedford.\n",
            "Kission.\n",
            "Phoenix.\n",
            "Saltimore.\n"
          ]
        }
      ]
    },
    {
      "cell_type": "markdown",
      "source": [
        "**Generate Chinese city names**"
      ],
      "metadata": {
        "id": "YvPDYAc1gH3t"
      }
    },
    {
      "cell_type": "code",
      "source": [
        "# sample from the model\n",
        "g_cn = torch.Generator().manual_seed(2147483647 + 10)\n",
        "\n",
        "for _ in range(100):\n",
        "\n",
        "    out1 = []\n",
        "    context = [0] * block_size2 # initialize with all ...\n",
        "    while True:\n",
        "      emb_cn = C_cn[torch.tensor([context])] # (1,block_size,d)\n",
        "      h_cn = torch.tanh(emb_cn.view(1, -1) @ W1_cn + b1_cn)\n",
        "      logits_cn = h_cn @ W2_cn + b2_cn\n",
        "      probs_cn = F.softmax(logits_cn, dim=1)\n",
        "      ix_cn = torch.multinomial(probs_cn, num_samples=1, generator=g_cn).item()\n",
        "      context = context[1:] + [ix_cn]\n",
        "      out1.append(ix_cn)\n",
        "      if ix_cn == 0:\n",
        "        break\n",
        "\n",
        "    print(''.join(itos2[i] for i in out1))"
      ],
      "metadata": {
        "colab": {
          "base_uri": "https://localhost:8080/"
        },
        "id": "xgYl1V61gnrr",
        "outputId": "45093cc6-6396-42f7-dc64-f1b51f1346cc"
      },
      "execution_count": 29,
      "outputs": [
        {
          "output_type": "stream",
          "name": "stdout",
          "text": [
            "大庆.\n",
            "敦化.\n",
            "义乌兰察布.\n",
            "鄂尔滨.\n",
            "盘锦.\n",
            "河.\n",
            "宜兴城.\n",
            "开封.\n",
            "宜春.\n",
            "诸城.\n",
            "乳山.\n",
            "贵溪.\n",
            "辽源.\n",
            "兴.\n",
            "磐石.\n",
            "密.\n",
            "原.\n",
            "沙河.\n",
            "乐陵.\n",
            "长垣.\n",
            "靖江.\n",
            "遵化.\n",
            "德兴城.\n",
            "榆树.\n",
            "台州.\n",
            "招远.\n",
            "福州.\n",
            "武夷山.\n",
            "霍州.\n",
            "萍乡.\n",
            "太仓.\n",
            "邳州.\n",
            "赤峰.\n",
            "景德镇.\n",
            "绥化.\n",
            "河间.\n",
            "兰察布.\n",
            "龙泉.\n",
            "漳平.\n",
            "同江.\n",
            "海.\n",
            "图们.\n",
            "晋城.\n",
            "聊城.\n",
            "东阳.\n",
            "福清.\n",
            "齐齐哈尔滨.\n",
            "舒兰察布.\n",
            "临海安.\n",
            "杭州.\n",
            "济宁国.\n",
            "兰屯.\n",
            "长治.\n",
            "卫辉县.\n",
            "兰溪.\n",
            "石.\n",
            "新乡.\n",
            "长治.\n",
            "井冈山.\n",
            "仪征.\n",
            "邯郸.\n",
            "太原.\n",
            "北京.\n",
            "河.\n",
            "肇东台州.\n",
            "吉安.\n",
            "丹阳.\n",
            "绍兴.\n",
            "五常.\n",
            "安.\n",
            "郑州.\n",
            "榆树.\n",
            "高碑店.\n",
            "江.\n",
            "常熟.\n",
            "长春.\n",
            "北镇.\n",
            "辛集.\n",
            "禹州.\n",
            "仪征.\n",
            "深州.\n",
            "莱州.\n",
            "包头.\n",
            "扎兰浩特别行政区.\n",
            "肥城.\n",
            "蚌埠.\n",
            "宁国.\n",
            "长葛.\n",
            "新沂.\n",
            "吕梁.\n",
            "乳山.\n",
            "南京.\n",
            "温州.\n",
            "邢台.\n",
            "海.\n",
            "宜春.\n",
            "项城.\n",
            "盘锦.\n",
            "朝阳.\n",
            "上饶.\n"
          ]
        }
      ]
    }
  ]
}